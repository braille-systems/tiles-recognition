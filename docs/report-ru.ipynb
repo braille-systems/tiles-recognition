{
 "metadata": {
  "language_info": {
   "codemirror_mode": {
    "name": "ipython",
    "version": 3
   },
   "file_extension": ".py",
   "mimetype": "text/x-python",
   "name": "python",
   "nbconvert_exporter": "python",
   "pygments_lexer": "ipython3",
   "version": "3.9.1"
  },
  "orig_nbformat": 2,
  "kernelspec": {
   "name": "python3",
   "display_name": "Python 3.9.1 64-bit ('venv': venv)",
   "metadata": {
    "interpreter": {
     "hash": "a67325811dbdf13fdb9bd51f7b1fb3df8e7cb530b04e8d9fc0832152380da1bb"
    }
   }
  }
 },
 "nbformat": 4,
 "nbformat_minor": 2,
 "cells": [
  {
   "source": [
    "# Распознавание плиток Брайля"
   ],
   "cell_type": "markdown",
   "metadata": {}
  },
  {
   "source": [
    "## Постановка задачи\n",
    "\n",
    "Создать инструмент, детектирующий плитки Брайля и распознающий символы, на них изображенные.\n",
    "\n",
    "По фотографии выделить bounding boxes плиток Брайля (координаты левого верхнего угла и размер минимального описывающего прямоугольника) и распознать символы, на них обозначенные.\n",
    "\n",
    "Подробнее про плитки можно почитать [тут](https://github.com/braille-systems/braille-trainer/wiki/tiles).\n",
    "\n",
    "Выглядят они следующим образом:\n",
    "\n",
    "![tile](https://user-images.githubusercontent.com/23435506/73558793-f53c2780-4464-11ea-965e-adbd76a7a998.JPG)\n",
    "\n",
    "Пример решения:\n",
    "\n",
    "![result](https://user-images.githubusercontent.com/25281147/111088052-4195da00-8536-11eb-8b6d-84635c324fca.png)\n"
   ],
   "cell_type": "markdown",
   "metadata": {}
  },
  {
   "source": [
    "## Датасет\n",
    "\n",
    "Датасет можно скачать [тут](https://disk.yandex.ru/d/vS5nZHeK9lezeQ?w=1).\n",
    "\n",
    "Основные черты примеров:\n",
    "\n",
    "- Разный фон на фотографии\n",
    "- Перспективные искажения\n",
    "- Различная освещенность\n",
    "- Различные направления света + рассеянный свет (точки металлические и бликуют)\n",
    "- Разные плитки\n",
    "- Плитки комбинируются в слова, либо разбрасываются по изображению\n",
    "- Плитки разложены под разными углами к горизонту камеры\n",
    "- Различные фокус и резкость камеры\n",
    "- Различное удаление от камеры\n",
    "\n",
    "Несколько примеров:\n",
    "![1](https://user-images.githubusercontent.com/25281147/112543634-15e0e280-8dc7-11eb-9d48-f822883d79a6.jpg)\n",
    "![13](https://user-images.githubusercontent.com/25281147/112543647-1aa59680-8dc7-11eb-8a97-82ffeda6a0c9.jpg)\n",
    "![46](https://user-images.githubusercontent.com/25281147/112543669-21340e00-8dc7-11eb-83ad-3089f0ce3570.jpg)\n",
    "![22](https://user-images.githubusercontent.com/25281147/112543683-26915880-8dc7-11eb-8c6f-fe7b415ddc2d.jpg)\n",
    "\n"
   ],
   "cell_type": "markdown",
   "metadata": {}
  },
  {
   "source": [
    "## Как запускать\n",
    "\n",
    "```\n",
    "$ cd tiles-recognition\n",
    "$ pip install -r requirements.txt\n",
    "$ python src/main.py -v /path/to/directory/with/images\n",
    "```\n",
    "\n",
    "* Ключ `-v` - сохранять промежуточные результаты.\n",
    "* Путь к директории с картинками. \n",
    "\n",
    "Интерпретация результатов:\n",
    "\n",
    "1. Красными линиями показывается контур предполагаемой плитки.\n",
    "2. Маркер Х говорит о том, что контур не был отсеян после перспективного преобразования плитки.\n",
    "3. Зелёный контур показывает принятую и распознанную плитку. Под плиткой - её номер в порядке слева направо, классифицированная буква и последовательность распознанных точек (в попядке сверху вниз, слева направо, F - filled, E - empty).\n",
    "\n"
   ],
   "cell_type": "markdown",
   "metadata": {}
  },
  {
   "source": [
    "## Реализация\n",
    "\n",
    "Основная идея:\n",
    "\n",
    "1. Найти многоугольники, напоминающие брайлевские плитки\n",
    "2. Вырезать каждую плитку и исправить перспективные искажения\n",
    "3. Классифицировать каждую плитку\n",
    "4. TODO: распознать составленное слово"
   ],
   "cell_type": "markdown",
   "metadata": {}
  },
  {
   "source": [
    "### Первая итерация"
   ],
   "cell_type": "markdown",
   "metadata": {}
  },
  {
   "cell_type": "code",
   "execution_count": null,
   "metadata": {},
   "outputs": [],
   "source": []
  },
  {
   "cell_type": "code",
   "execution_count": null,
   "metadata": {},
   "outputs": [],
   "source": []
  },
  {
   "source": [
    "#### Анализ результатов\n",
    "\n",
    "TODO"
   ],
   "cell_type": "markdown",
   "metadata": {}
  },
  {
   "source": [
    "### Вторая итерация\n",
    "\n",
    "Идеи: TODO"
   ],
   "cell_type": "markdown",
   "metadata": {}
  },
  {
   "source": [
    "## Анализ результатов\n",
    "\n",
    "TODO"
   ],
   "cell_type": "markdown",
   "metadata": {}
  },
  {
   "cell_type": "code",
   "execution_count": null,
   "metadata": {},
   "outputs": [],
   "source": []
  }
 ]
}